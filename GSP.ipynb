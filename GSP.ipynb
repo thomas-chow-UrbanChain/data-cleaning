{
 "cells": [
  {
   "cell_type": "code",
   "execution_count": 148,
   "id": "bd3e5397-9687-483f-b24f-743dc25963cb",
   "metadata": {},
   "outputs": [],
   "source": [
    "import pandas as pd\n",
    "from datetime import datetime, timedelta\n",
    "import warnings\n",
    "warnings.filterwarnings(\"ignore\")\n",
    "\n",
    "gsp = pd.read_excel('Draft-Reference-Network-Mapping-Statement-consultation-2024.xlsx', sheet_name = 'Zones to GSP Groups')\n",
    "# Map GSP zones to code(1-14)\n",
    "gsp_mapping = pd.Series(gsp.iloc[1:15,2].values,index=gsp.iloc[1:15,0]).to_dict()"
   ]
  },
  {
   "cell_type": "code",
   "execution_count": 149,
   "id": "aca9e39b-fed4-4ab6-a265-8a8be6ff8917",
   "metadata": {},
   "outputs": [],
   "source": [
    "output = pd.DataFrame(columns = ['Datetime (UTC)', 'Eastern', 'East Midlands', 'London',\n",
    "       'Merseyside & North Wales', 'Midlands', 'Northern', 'North Western',\n",
    "       'Southern', 'South Eastern', 'South Wales', 'South Western',\n",
    "       'Yorkshire', 'South of Scotland', 'North of Scotland'])\n"
   ]
  },
  {
   "cell_type": "code",
   "execution_count": 150,
   "id": "c26aac42-c1a5-4f1c-8407-1a3c4988691a",
   "metadata": {},
   "outputs": [],
   "source": [
    "# Values from all the periods\n",
    "datasets = ['TLFA-I009_ASZTLF_Spring_A', 'TLFA-I009_ASZTLF_Summer_A', 'TLFA-I009_ASZTLF_Autumn_A 1', 'TLFA-I009_ASZTLF_Winter_A', 'TLFA-I009_ASZTLF_Spring_B']\n",
    "for d in datasets:\n",
    "    df = pd.read_csv(d + '.csv')\n",
    "    # Map the value to the same code to backtrack the GSP name\n",
    "    value_mapping = pd.Series(df.iloc[0:14,2].values,index=df.iloc[0:14,1]).to_dict()\n",
    "    # Split start date to convert to datetime\n",
    "    start = str(df.iloc[1,3])\n",
    "    start_date = datetime(int(start[0:4]), int(start[4:6]), int(start[6:8]))\n",
    "    # Split end date to convert to datetime\n",
    "    end = str(df.iloc[1,4])\n",
    "    end_date = datetime(int(end[0:4]), int(end[4:6]), int(end[6:8]),23,30)\n",
    "\n",
    "    dates_range = []\n",
    "    # Increment every 30 minutes from start date to end date\n",
    "    while start_date <= end_date:\n",
    "        dates_range.append(start_date)\n",
    "        start_date += timedelta(minutes=30)\n",
    "    \n",
    "    temp = pd.DataFrame({'Datetime (UTC)': dates_range})\n",
    "    # Map the values to each GSP name column\n",
    "    for k in gsp_mapping.keys():\n",
    "        temp[gsp_mapping[k]] = value_mapping[int(k)]\n",
    "    # Concatenate results for all periods\n",
    "    output = pd.concat([output, temp])\n"
   ]
  },
  {
   "cell_type": "code",
   "execution_count": 152,
   "id": "1cfff514-c311-4f09-9ffd-8503d40d07cc",
   "metadata": {},
   "outputs": [],
   "source": [
    "output.to_csv('GSP.csv', index = False)"
   ]
  }
 ],
 "metadata": {
  "kernelspec": {
   "display_name": "Python 3 (ipykernel)",
   "language": "python",
   "name": "python3"
  },
  "language_info": {
   "codemirror_mode": {
    "name": "ipython",
    "version": 3
   },
   "file_extension": ".py",
   "mimetype": "text/x-python",
   "name": "python",
   "nbconvert_exporter": "python",
   "pygments_lexer": "ipython3",
   "version": "3.12.4"
  }
 },
 "nbformat": 4,
 "nbformat_minor": 5
}
