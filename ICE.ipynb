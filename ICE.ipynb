{
 "cells": [
  {
   "cell_type": "code",
   "execution_count": 1,
   "id": "8f10ea63-3f3f-4c9b-a021-9c9a18f5021e",
   "metadata": {},
   "outputs": [],
   "source": [
    "# pip install pdfminer.six"
   ]
  },
  {
   "cell_type": "code",
   "execution_count": 2,
   "id": "b77c7399-9492-42d1-b36b-a263848a3d81",
   "metadata": {},
   "outputs": [],
   "source": [
    "from pdfminer.high_level import extract_text\n",
    "import os\n",
    "\n",
    "file = \"UBL_2024_09_17.pdf\"\n",
    "\n",
    "text = extract_text(file)\n",
    "text = text.replace('\\n\\n', ' ').replace('\\n', ' ')"
   ]
  },
  {
   "cell_type": "code",
   "execution_count": 3,
   "id": "d45c1b73-e2b3-4953-8e09-3b47c1d617c2",
   "metadata": {
    "scrolled": true
   },
   "outputs": [],
   "source": [
    "data = text.split(' ')\n",
    "# \" \".join(text.split(' ')[90:125])"
   ]
  },
  {
   "cell_type": "code",
   "execution_count": 4,
   "id": "35b7de93-8602-4a19-a3db-0d67cdba13b7",
   "metadata": {},
   "outputs": [
    {
     "name": "stdout",
     "output_type": "stream",
     "text": [
      "70.50 82.45 82.45 89.25 89.15 80.05 74.65 72.85 72.15 70.65 70.65 73.35 81.50 84.10 84.45 84.40 83.75 79.55 68.10 64.50 64.25 64.55 65.10 67.35 73.60 75.65 75.90 75.85 75.35 72.20 63.55 60.80 60.60 60.80 61.30 63.80 70.55 72.75 73.00 72.90 72.45 70.00 63.40 61.35 61.20 61.35 61.75 63.55 68.45 70.10 70.30 70.35 69.85 66.70 58.20 55.55 55.45 55.75 56.00 56.35 58.45 59.10 59.55 59.70 59.30 57.45\n"
     ]
    }
   ],
   "source": [
    "# Function to filter numbers between 5 and 1000\n",
    "def filter_numbers(data):\n",
    "    filtered_numbers = []\n",
    "    for item in data:\n",
    "        try:\n",
    "            # Convert the item to a float\n",
    "            number = float(item)\n",
    "            # Check if the number is within the range\n",
    "            if 10 <= number <= 1000 and '.' in item:\n",
    "                filtered_numbers.append(item)\n",
    "        except ValueError:\n",
    "            # Ignore items that cannot be converted to float\n",
    "            continue\n",
    "    return filtered_numbers\n",
    "\n",
    "# Get filtered list\n",
    "filtered_list = filter_numbers(data)\n",
    "\n",
    "print(\" \".join(filtered_list))"
   ]
  },
  {
   "cell_type": "code",
   "execution_count": 5,
   "id": "1131f6e7-01c6-4f44-a799-8267befd2d79",
   "metadata": {},
   "outputs": [],
   "source": [
    "# os.remove(file)"
   ]
  }
 ],
 "metadata": {
  "kernelspec": {
   "display_name": "base",
   "language": "python",
   "name": "python3"
  },
  "language_info": {
   "codemirror_mode": {
    "name": "ipython",
    "version": 3
   },
   "file_extension": ".py",
   "mimetype": "text/x-python",
   "name": "python",
   "nbconvert_exporter": "python",
   "pygments_lexer": "ipython3",
   "version": "3.12.4"
  }
 },
 "nbformat": 4,
 "nbformat_minor": 5
}
