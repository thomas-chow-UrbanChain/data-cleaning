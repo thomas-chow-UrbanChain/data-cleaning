{
 "cells": [
  {
   "cell_type": "code",
   "execution_count": 65,
   "id": "f1d0122b-0ee0-42d9-bf97-38fd6fdb059a",
   "metadata": {},
   "outputs": [],
   "source": [
    "\n",
    "import requests\n",
    "\n",
    "url = 'https://wps.neweuropeanwindatlas.eu/api/mesoscale-ts/v1/get-data-point?latitude=52.5068417957125&longitude=-2.00900240657864&height=50&height=75&height=100&height=150&height=200&height=250&height=500&variable=WS&dt_start=2005-01-01T00%3A00%3A00&dt_stop=2005-01-31T23%3A00%3A00'\n",
    "\n",
    "with open('abcd.nc', 'wb') as out_file:\n",
    "    content = requests.get(url, stream=True).content\n",
    "    out_file.write(content)    "
   ]
  },
  {
   "cell_type": "code",
   "execution_count": 67,
   "id": "3bb7947b-bb79-4749-8c8e-2bd6491e617f",
   "metadata": {},
   "outputs": [
    {
     "data": {
      "text/plain": [
       "<class 'netCDF4._netCDF4.Variable'>\n",
       "float32 WS(time, height)\n",
       "    grid_mapping: crs\n",
       "    long_name: Horizontal Wind Speed\n",
       "    standard_name: wind_speed\n",
       "    units: m s-1\n",
       "    concept_pid: http://purl.org/aspect/wind_speed\n",
       "    coordinates: XLON XLAT crs\n",
       "    _FillValue: nan\n",
       "unlimited dimensions: \n",
       "current shape = (1487, 7)\n",
       "filling on"
      ]
     },
     "execution_count": 67,
     "metadata": {},
     "output_type": "execute_result"
    }
   ],
   "source": [
    "import netCDF4\n",
    "file2read = netCDF4.Dataset('abcd.nc','r')\n",
    "var1 = file2read.variables\n",
    "var1['WS']"
   ]
  }
 ],
 "metadata": {
  "kernelspec": {
   "display_name": "Python 3 (ipykernel)",
   "language": "python",
   "name": "python3"
  },
  "language_info": {
   "codemirror_mode": {
    "name": "ipython",
    "version": 3
   },
   "file_extension": ".py",
   "mimetype": "text/x-python",
   "name": "python",
   "nbconvert_exporter": "python",
   "pygments_lexer": "ipython3",
   "version": "3.12.4"
  }
 },
 "nbformat": 4,
 "nbformat_minor": 5
}
